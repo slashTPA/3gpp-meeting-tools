{
 "cells": [
  {
   "cell_type": "code",
   "execution_count": null,
   "metadata": {},
   "outputs": [],
   "source": [
    "revisions_file = '2020.09.01 Directory Listing _ftp_tsg_sa_WG2_Arch_TSGS2_140e_Electronic_INBOX_Revisions.html'\n",
    "fig_title = \"SA2-140E Revisions\""
   ]
  },
  {
   "cell_type": "code",
   "execution_count": null,
   "metadata": {},
   "outputs": [],
   "source": [
    "# You will need pandas/numpy to run the first part of the script. Then plotly for the second part. You can install plotly via pip (pip install plotly)\n",
    "# If the PNG export is not working, most probably orca is not installed. You can install it by executing in the Anaconda cmd: conda install -c plotly plotly-orca\n",
    "import pandas as pd\n",
    "import numpy as np\n",
    "import plotly.express as px\n",
    "import html2text\n",
    "import re"
   ]
  },
  {
   "cell_type": "code",
   "execution_count": null,
   "metadata": {},
   "outputs": [],
   "source": [
    "with open(revisions_file, 'r') as file:\n",
    "    tdoc_revisions_html = file.read()\n",
    "print(tdoc_revisions_html)"
   ]
  },
  {
   "cell_type": "code",
   "execution_count": null,
   "metadata": {},
   "outputs": [],
   "source": [
    "h = html2text.HTML2Text()\n",
    "# Ignore converting links from HTML\n",
    "h.ignore_links = True\n",
    "tdoc_revisions_text = h.handle(tdoc_revisions_html)\n",
    "tdocs = emails = re.findall(r'S2-[\\d]{7}r[\\d]{2}',tdoc_revisions_text)\n",
    "tdocs = list(set(tdocs))\n",
    "revision_list = [(tdoc[0:-3], tdoc[-2:]) for tdoc in tdocs]\n",
    "\n",
    "df = pd.DataFrame(revision_list, columns =['Tdoc', 'Revision'])\n",
    "df[\"Revision\"] = df[[\"Revision\"]].apply(pd.to_numeric)\n",
    "display(df)"
   ]
  },
  {
   "cell_type": "code",
   "execution_count": null,
   "metadata": {},
   "outputs": [],
   "source": [
    "df_per_tdoc = df.groupby(\"Tdoc\")\n",
    "maximums = df_per_tdoc.max()\n",
    "maximums = maximums.reset_index()\n",
    "\n",
    "display(maximums)"
   ]
  },
  {
   "cell_type": "code",
   "execution_count": null,
   "metadata": {},
   "outputs": [],
   "source": [
    "fig = px.histogram(\n",
    "    maximums, \n",
    "    x=\"Revision\",\n",
    "    labels={\n",
    "        \"Revision\": \"Number of revisions\",\n",
    "        \"count\": \"Number of TDocs\"\n",
    "    },)\n",
    "fig.show()\n",
    "\n",
    "fig.write_html( fig_title + \".html\")\n",
    "fig.write_image(fig_title + \".png\")\n",
    "\n",
    "print('Mean: {0}'.format(maximums.Revision.mean()))\n"
   ]
  },
  {
   "cell_type": "code",
   "execution_count": null,
   "metadata": {},
   "outputs": [],
   "source": []
  }
 ],
 "metadata": {
  "kernelspec": {
   "display_name": "Python 3",
   "language": "python",
   "name": "python3"
  },
  "language_info": {
   "codemirror_mode": {
    "name": "ipython",
    "version": 3
   },
   "file_extension": ".py",
   "mimetype": "text/x-python",
   "name": "python",
   "nbconvert_exporter": "python",
   "pygments_lexer": "ipython3",
   "version": "3.7.3"
  }
 },
 "nbformat": 4,
 "nbformat_minor": 2
}
