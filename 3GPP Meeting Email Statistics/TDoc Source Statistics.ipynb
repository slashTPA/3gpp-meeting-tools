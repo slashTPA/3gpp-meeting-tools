{
 "cells": [
  {
   "cell_type": "code",
   "execution_count": null,
   "metadata": {},
   "outputs": [],
   "source": [
    "import pandas as pd\n",
    "import pickle\n",
    "import networkx as nx\n",
    "import os.path"
   ]
  },
  {
   "cell_type": "code",
   "execution_count": null,
   "metadata": {},
   "outputs": [],
   "source": [
    "# SA2-141E\n",
    "# cache_file = 'TDocsByAgenda_TSGS2_141e_Electronic_745f0abc6d641cb65afd5d8aef4476a7.pickle'\n",
    "# SA2-137E\n",
    "cache_file = 'TDocsByAgenda_TSGS2_137e_Electronic_f758bcb52ead1c245c3797d880ae986c.pickle'"
   ]
  },
  {
   "cell_type": "code",
   "execution_count": null,
   "metadata": {},
   "outputs": [],
   "source": [
    "output_file_prefix = cache_file.split('.')[0]\n",
    "with open(cache_file, 'rb') as f:\n",
    "    # Unpickle the 'data' dictionary using the highest protocol available.\n",
    "    cache               = pickle.load(f)\n",
    "    tdocs               = cache['tdocs']\n",
    "    contributor_columns = cache['contributor_columns']\n",
    "    others_cosigners    = cache['others_cosigners']"
   ]
  },
  {
   "cell_type": "code",
   "execution_count": null,
   "metadata": {},
   "outputs": [],
   "source": [
    "# Count sources per TDoc\n",
    "tdocs['Source count'] = tdocs['Source (summary)'].apply(lambda x: len(x.split(',')))"
   ]
  },
  {
   "cell_type": "code",
   "execution_count": null,
   "metadata": {},
   "outputs": [],
   "source": [
    "contributors = [e.replace('Contributed by ','') for e in contributor_columns]\n",
    "contributors.append('Others')\n",
    "pd.options.display.max_columns = None\n",
    "pd.options.display.max_rows    = 50\n",
    "pd.options.display.min_rows    = 7\n",
    "display(tdocs)"
   ]
  },
  {
   "cell_type": "code",
   "execution_count": null,
   "metadata": {},
   "outputs": [],
   "source": [
    "# Make the diagram simpler by plotting only companies\n",
    "contributors_to_ignore_in_diagram = [\n",
    "    'RAN WG1',\n",
    "    'RAN WG2',\n",
    "    'RAN WG3',\n",
    "    'SA WG1',\n",
    "    'SA WG2',\n",
    "    'SA WG3',\n",
    "    'SA WG4',\n",
    "    'SA WG5',\n",
    "    'SA WG6',\n",
    "    'TSG SA',\n",
    "    'TSG CT',\n",
    "    'TSG RAN',\n",
    "    'CT WG1',\n",
    "    'CT WG2',\n",
    "    'CT WG3',\n",
    "    'CT WG4',\n",
    "    'IETF',\n",
    "    'IEEE',\n",
    "    'BBF',\n",
    "    'GSMA'\n",
    "]"
   ]
  },
  {
   "cell_type": "code",
   "execution_count": null,
   "metadata": {},
   "outputs": [],
   "source": [
    "tdocs_with_multiple_sources = tdocs[tdocs['Source count']>1]\n",
    "\n",
    "G = nx.Graph()\n",
    "contributors_in_meeting = []\n",
    "nodes = {}\n",
    "edge_sizes = {}\n",
    "for idx,contributor in enumerate(contributors):\n",
    "    # Each contributor is a node\n",
    "    contributor_size = tdocs_with_multiple_sources[(tdocs_with_multiple_sources['Contributed by {0}'.format(contributor)]==True)].count()['AI']\n",
    "    if contributor_size > 0:\n",
    "        contributors_in_meeting.append(contributor)\n",
    "        nodes[contributor] = contributor_size\n",
    "        G.add_node(contributor, size=contributor_size)\n",
    "        \n",
    "print('{0} contributors counted in this meeting'.format(len(contributors_in_meeting)))\n",
    "contributors_in_meeting = [e for e in contributors_in_meeting if e not in contributors_to_ignore_in_diagram]\n",
    "print('{0} contributors counted in this meeting after filtering non-company entities'.format(len(contributors_in_meeting)))\n",
    "        \n",
    "# Generate co-signing matrix\n",
    "# Initialize N (row) x M (columns)\n",
    "N = len(contributors_in_meeting)\n",
    "M = N\n",
    " \n",
    "# using list comprehension \n",
    "# to initializing matrix\n",
    "co_sign_numbers = [ [ 0 for i in range(M) ] for j in range(N) ]\n",
    " \n",
    "# printing result \n",
    "print(\"Relation matrix after initializing {0}x{1}: \".format(N,M))\n",
    "\n",
    "total_contributors = len(contributors_in_meeting)\n",
    "for idx_1,contributor_1 in enumerate(contributors_in_meeting):\n",
    "    # print('{0}: Checking {1}'.format(idx_1, contributor_1))\n",
    "    for idx_2,contributor_2 in enumerate(contributors_in_meeting[idx_1+1:total_contributors]):\n",
    "        tdoc_count = int(tdocs_with_multiple_sources[(tdocs_with_multiple_sources['Contributed by {0}'.format(contributor_1)]==True) & (tdocs_with_multiple_sources['Contributed by {0}'.format(contributor_2)]==True)].count()['AI'])\n",
    "        if tdoc_count > 0:\n",
    "            edge_sizes['{0}-{1}'.format(contributor_1,contributor_2)] = tdoc_count\n",
    "            G.add_edge(contributor_1, contributor_2, weight=tdoc_count)\n",
    "            full_idx2 = idx_1+1+idx_2\n",
    "            if idx_1 != full_idx2:\n",
    "                co_sign_numbers[idx_1][full_idx2] = tdoc_count\n",
    "                co_sign_numbers[full_idx2][idx_1] = tdoc_count\n",
    "                # print('  and {0} ({1}): {2}'.format(contributor_2, contributors_in_meeting[full_idx2], tdoc_count))\n",
    "                \n",
    "print(\"Contributors in meeting ({0})\".format(len(contributors_in_meeting)))\n",
    "print(contributors_in_meeting)\n",
    "# display(pd.DataFrame(co_sign_numbers))"
   ]
  },
  {
   "cell_type": "code",
   "execution_count": null,
   "metadata": {},
   "outputs": [],
   "source": [
    "# Wwill not work if Chor is called before, so let's put Chord at the end\n",
    "import plotly.express as px\n",
    "# import plotly.io as pio\n",
    "# pio.renderers.default='notebook'\n",
    "fig = px.histogram(\n",
    "    tdocs, \n",
    "    x=\"Source count\")\n",
    "fig.show()\n",
    "\n",
    "# fig.write_html( output_file_prefix + \"source count.html\")\n",
    "# fig.write_image(output_file_prefix + \"source count.png\")"
   ]
  },
  {
   "cell_type": "code",
   "execution_count": null,
   "metadata": {},
   "outputs": [],
   "source": [
    "tdocs_sorted_by_source_count = tdocs.sort_values(by ='Source count' , ascending=False, inplace=False)\n",
    "tdocs_to_display = tdocs_sorted_by_source_count.iloc[0:21,:]\n",
    "tdocs_to_display = tdocs_to_display.loc[:,['AI', 'Type', 'Doc For', 'Title', 'Source', 'Source count']]\n",
    "display(tdocs_to_display)"
   ]
  },
  {
   "cell_type": "code",
   "execution_count": null,
   "metadata": {},
   "outputs": [],
   "source": [
    "# Call Chord after all plotly calls. If not, it breaks. Maybe some Jupyter Lab/Notebook incompatibility\n",
    "from chord import Chord\n",
    "chord_diagram = Chord(\n",
    "    co_sign_numbers,\n",
    "    names=contributors_in_meeting,\n",
    "    wrap_labels=False,\n",
    "    margin=50,\n",
    "    font_size_large=\"10px\",\n",
    "    noun=\"contributions\",\n",
    "    padding=0.03)\n",
    "chord_diagram.show()\n",
    "chord_diagram.to_html(filename='{0}_Co-signing.html'.format(output_file_prefix))"
   ]
  },
  {
   "cell_type": "code",
   "execution_count": null,
   "metadata": {},
   "outputs": [],
   "source": [
    "# Generate graph file to be used with Cytoscape\n",
    "[cache_folder, picke_file] = os.path.split(cache_file)\n",
    "graphml_path = os.path.join(cache_folder, '{0}.graphml'.format(output_file_prefix))\n",
    "nx.write_graphml(G, graphml_path)\n",
    "display(graphml_path)"
   ]
  },
  {
   "cell_type": "code",
   "execution_count": null,
   "metadata": {},
   "outputs": [],
   "source": [
    "display(tdocs.Result.unique())\n",
    "display(tdocs.Type.unique())"
   ]
  },
  {
   "cell_type": "code",
   "execution_count": null,
   "metadata": {},
   "outputs": [],
   "source": [
    "# We will show for the following document types:\n",
    "#  - P-CR\n",
    "#  - CR\n",
    "#  - LS In\n",
    "#  - LS OUT\n",
    "# For each of the categories, a document can end in either Merged/Revised, Withdrawn, Unhandled, Approved/Agreed\n",
    "# Left we have initial documents, middle are merged/revisions (some may be repeated, just a sum of what was revised/merged from the left part), left final documents"
   ]
  },
  {
   "cell_type": "code",
   "execution_count": null,
   "metadata": {},
   "outputs": [],
   "source": [
    "# Just a check as I found out that CATT and ATT's regex are clashing\n",
    "# tdocs[(tdocs['Contributed by AT&T']==True) & (tdocs['Contributed by CATT']==True)]\n",
    "# check_1 = 'XXX'\n",
    "# check_2 = 'XXX'\n",
    "# tdocs[(tdocs['Contributed by {0}'.format(check_1)]==True) & (tdocs['Contributed by {0}'.format(check_2)]==True)]"
   ]
  },
  {
   "cell_type": "code",
   "execution_count": null,
   "metadata": {},
   "outputs": [],
   "source": []
  }
 ],
 "metadata": {
  "kernelspec": {
   "display_name": "Python 3",
   "language": "python",
   "name": "python3"
  },
  "language_info": {
   "codemirror_mode": {
    "name": "ipython",
    "version": 3
   },
   "file_extension": ".py",
   "mimetype": "text/x-python",
   "name": "python",
   "nbconvert_exporter": "python",
   "pygments_lexer": "ipython3",
   "version": "3.7.3"
  }
 },
 "nbformat": 4,
 "nbformat_minor": 4
}
