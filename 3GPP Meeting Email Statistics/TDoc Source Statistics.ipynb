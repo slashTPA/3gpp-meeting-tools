{
 "cells": [
  {
   "cell_type": "code",
   "execution_count": null,
   "metadata": {},
   "outputs": [],
   "source": [
    "import pandas as pd\n",
    "import pickle\n",
    "import networkx as nx\n",
    "import plotly.graph_objects as go\n",
    "import matplotlib.pyplot as plt\n",
    "import os.path"
   ]
  },
  {
   "cell_type": "code",
   "execution_count": null,
   "metadata": {},
   "outputs": [],
   "source": [
    "cache_file = r'd:\\users\\colomikunoj\\Desktop\\Github 3GPP Meeting Helper\\3gpp-meeting-tools\\3GPP Meeting Email Statistics\\TDocsByAgenda_TSGS2_141e_Electronic_24200b6d2486c6799f68217fa19aa136.pickle'"
   ]
  },
  {
   "cell_type": "code",
   "execution_count": null,
   "metadata": {},
   "outputs": [],
   "source": [
    "with open(cache_file, 'rb') as f:\n",
    "    # Unpickle the 'data' dictionary using the highest protocol available.\n",
    "    cache               = pickle.load(f)\n",
    "    tdocs               = cache['tdocs']\n",
    "    contributor_columns = cache['contributor_columns']\n",
    "    others_cosigners    = cache['others_cosigners']"
   ]
  },
  {
   "cell_type": "code",
   "execution_count": null,
   "metadata": {},
   "outputs": [],
   "source": [
    "contributors = [e.replace('Contributed by ','') for e in contributor_columns]\n",
    "contributors.append('Others')\n",
    "pd.options.display.max_columns = None\n",
    "pd.options.display.max_rows    = 60\n",
    "pd.options.display.min_rows    = 15\n",
    "display(tdocs)"
   ]
  },
  {
   "cell_type": "code",
   "execution_count": null,
   "metadata": {},
   "outputs": [],
   "source": [
    "G = nx.Graph()\n",
    "contributors_in_meeting = []\n",
    "nodes = {}\n",
    "edge_sizes = {}\n",
    "for idx,contributor in enumerate(contributors):\n",
    "    # Each contributor is a node\n",
    "    contributor_size = tdocs[(tdocs['Contributed by {0}'.format(contributor)]==True)].count()['AI']\n",
    "    if contributor_size > 0:\n",
    "        contributors_in_meeting.append(contributor)\n",
    "        nodes[contributor] = contributor_size\n",
    "        G.add_node(contributor, size=contributor_size)\n",
    "\n",
    "total_contributors = len(contributors_in_meeting)\n",
    "for idx,contributor_1 in enumerate(contributors_in_meeting):\n",
    "    for contributor_2 in contributors_in_meeting[idx+1:total_contributors]:\n",
    "        tdoc_count = tdocs[(tdocs['Contributed by {0}'.format(contributor_1)]==True) & (tdocs['Contributed by {0}'.format(contributor_2)]==True)].count()['AI']\n",
    "        if tdoc_count > 0:\n",
    "            edge_sizes['{0}-{1}'.format(contributor_1,contributor_2)] = tdoc_count\n",
    "            G.add_edge(contributor_1, contributor_2, weight=tdoc_count)\n",
    "            # print('{0}, {1}: {2}'.format(contributor, contributor_2, tdoc_count))"
   ]
  },
  {
   "cell_type": "code",
   "execution_count": null,
   "metadata": {},
   "outputs": [],
   "source": [
    "[cache_folder, picke_file] = os.path.split(cache_file)\n",
    "graphml_path = os.path.join(cache_folder, '{0}.graphml'.format(picke_file.split('.')[0]))\n",
    "nx.write_graphml(G, graphml_path)\n",
    "display(graphml_path)"
   ]
  },
  {
   "cell_type": "code",
   "execution_count": null,
   "metadata": {},
   "outputs": [],
   "source": [
    "edge_sizes"
   ]
  },
  {
   "cell_type": "code",
   "execution_count": null,
   "metadata": {},
   "outputs": [],
   "source": [
    "display(tdocs.Result.unique())\n",
    "display(tdocs.Type.unique())"
   ]
  },
  {
   "cell_type": "code",
   "execution_count": null,
   "metadata": {},
   "outputs": [],
   "source": [
    "# We will show for the following document types:\n",
    "#  - P-CR\n",
    "#  - CR\n",
    "#  - LS In\n",
    "#  - LS OUT\n",
    "# For each of the categories, a document can end in either Merged/Revised, Withdrawn, Unhandled, Approved/Agreed\n",
    "# Left we have initial documents, middle are merged/revisions (some may be repeated, just a sum of what was revised/merged from the left part), left final documents"
   ]
  }
 ],
 "metadata": {
  "kernelspec": {
   "display_name": "Python 3",
   "language": "python",
   "name": "python3"
  },
  "language_info": {
   "codemirror_mode": {
    "name": "ipython",
    "version": 3
   },
   "file_extension": ".py",
   "mimetype": "text/x-python",
   "name": "python",
   "nbconvert_exporter": "python",
   "pygments_lexer": "ipython3",
   "version": "3.7.3"
  }
 },
 "nbformat": 4,
 "nbformat_minor": 2
}
