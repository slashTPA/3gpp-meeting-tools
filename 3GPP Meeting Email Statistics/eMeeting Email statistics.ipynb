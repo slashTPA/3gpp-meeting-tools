{
 "cells": [
  {
   "cell_type": "code",
   "execution_count": null,
   "metadata": {},
   "outputs": [],
   "source": [
    "# Input information\n",
    "# NOTE: the file name is just a file the author used for testing, the file is not included in the repository\n",
    "\n",
    "# SA2-139E Ph1\n",
    "meeting = {\n",
    "    'file':  \"2020.06.15 073045 email summary.csv\",\n",
    "    'title': \"SA2-139E Ph1+Ph2\",\n",
    "    'dates': ['2020-05-31 12:00','2020-06-12 19:00']\n",
    "}\n",
    "\n",
    "# SA2-138E\n",
    "#meeting = {\n",
    "#    'file':  \"2020.04.24 153334 email summary.csv\",\n",
    "#    'title': \"SA2-138E\",\n",
    "#    'dates': ['2020-04-19 12:00','2020-04-24 19:00']\n",
    "#}\n",
    "\n",
    "# SA2-137E\n",
    "#meeting = {\n",
    "#    'file':  \"2020.03.02 080314 email summary.csv\",\n",
    "#    'title': \"SA2-137E\",\n",
    "#    'dates': ['2020-02-23 12:00','2020-02-28 19:00']\n",
    "#}"
   ]
  },
  {
   "cell_type": "code",
   "execution_count": null,
   "metadata": {},
   "outputs": [],
   "source": [
    "# You will need pandas/numpy to run the first part of the script. Then plotly for the second part. You can install plotly via pip (pip install plotly)\n",
    "# If the PNG export is not working, most probably orca is not installed. You can install it by executing in the Anaconda cmd: conda install -c plotly plotly-orca\n",
    "import pandas as pd\n",
    "import numpy as np\n",
    "import plotly.express as px"
   ]
  },
  {
   "cell_type": "code",
   "execution_count": null,
   "metadata": {},
   "outputs": [],
   "source": [
    "# Create variables\n",
    "email_dump    = meeting[\"file\"]\n",
    "title         = meeting[\"title\"]\n",
    "meeting_dates = meeting[\"dates\"]\n",
    "\n",
    "# Create DataFrame for analysis\n",
    "df = pd.read_csv(\n",
    "    email_dump,\n",
    "    index_col=0,\n",
    "    dtype=object)\n",
    "df['date']    = pd.to_datetime(df['date'])\n",
    "df['day']     = df['date'].dt.floor('d')\n",
    "df['hour']    = df['date'].dt.floor('h')\n",
    "\n",
    "def parse_email_company(x):\n",
    "    try:\n",
    "        email_address_split = x.split('@')\n",
    "        company_domain      = email_address_split[-1]\n",
    "        company_name_split  = company_domain.split('.')\n",
    "        \n",
    "        if 'COM.CN' in x:\n",
    "            company_name = company_name_split[0]\n",
    "        else:\n",
    "            company_name = company_name_split[-2]\n",
    "        \n",
    "        if len(company_name) <= 4:\n",
    "            company_name = company_name.upper()\n",
    "        else:\n",
    "            company_name = company_name.capitalize()\n",
    "            \n",
    "        if company_name=='COM':\n",
    "            print(x)\n",
    "            \n",
    "        # Some substitutions for big companies that show in rankings\n",
    "        if company_name=='Ztetx':\n",
    "            company_name = 'ZTE'\n",
    "        elif company_name=='Nokia-sbell':\n",
    "            company_name = 'Nokia'\n",
    "        elif company_name=='Docomolab-euro':\n",
    "            company_name = 'NTT Docomo'\n",
    "        elif company_name=='Magenta':\n",
    "            company_name = 'Deutsche Telekom'\n",
    "            \n",
    "        return company_name\n",
    "    except:\n",
    "        print('Error parsing email. Sender address: {0}'.format(x))\n",
    "        return ''\n",
    "df['company'] = df['sender address'].apply(parse_email_company)\n",
    "\n",
    "display(df.company.unique())"
   ]
  },
  {
   "cell_type": "code",
   "execution_count": null,
   "metadata": {
    "scrolled": true
   },
   "outputs": [],
   "source": [
    "df"
   ]
  },
  {
   "cell_type": "code",
   "execution_count": null,
   "metadata": {},
   "outputs": [],
   "source": [
    "email_count_per_ai   = df.groupby('ai').count()\n",
    "email_count_per_day  = df.groupby('day').count()\n",
    "email_count_per_hour = df.groupby('hour').count()"
   ]
  },
  {
   "cell_type": "code",
   "execution_count": null,
   "metadata": {},
   "outputs": [],
   "source": [
    "max_rows = pd.options.display.max_rows\n",
    "pd.options.display.max_rows = None\n",
    "emails_count = df.groupby('sender name').count().sort_values(by='date', ascending=False)\n",
    "# See https://stackoverflow.com/questions/49574817/fill-a-new-pandas-column-with-row-numbers\n",
    "emails_count['ranking'] = np.arange(len(emails_count)) + 1\n",
    "emails_count['emails'] = emails_count['date']\n",
    "display(emails_count[['ranking', 'emails']].iloc[0:25,:])\n",
    "pd.options.display.max_rows = 60"
   ]
  },
  {
   "cell_type": "code",
   "execution_count": null,
   "metadata": {},
   "outputs": [],
   "source": [
    "max_rows = pd.options.display.max_rows\n",
    "pd.options.display.max_rows = None\n",
    "emails_count_company = df.groupby('company').count().sort_values(by='date', ascending=False)\n",
    "\n",
    "# See https://stackoverflow.com/questions/49574817/fill-a-new-pandas-column-with-row-numbers\n",
    "emails_count_company['ranking'] = np.arange(len(emails_count_company)) + 1\n",
    "emails_count_company['emails'] = emails_count_company['date']\n",
    "display(emails_count_company[['ranking', 'emails']].iloc[0:20,:])\n",
    "pd.options.display.max_rows = 60"
   ]
  },
  {
   "cell_type": "code",
   "execution_count": null,
   "metadata": {},
   "outputs": [],
   "source": [
    "# Ranking based on emails per delegate\n",
    "active_delegate_list = pd.DataFrame()\n",
    "grouped_df = df.groupby(['company', 'sender name']).count()\n",
    "active_delegate_list['company']       = grouped_df.index.get_level_values(0).copy()\n",
    "active_delegate_list['delegate name'] = grouped_df.index.get_level_values(1).copy()\n",
    "# display(active_delegate_list)\n",
    "active_delegate_count = active_delegate_list.groupby('company').count()\n",
    "# display(active_delegate_count)\n",
    "# display(emails_count_company)\n",
    "\n",
    "emails_per_active_delegate_count = emails_count_company['emails']/active_delegate_count['delegate name']\n",
    "emails_count_company['emails/active delegate'] = emails_per_active_delegate_count\n",
    "emails_count_company['active delegates'] = active_delegate_count['delegate name']\n",
    "emails_count_company['total emails'] = emails_count_company['emails']\n",
    "emails_count_company_resort = emails_count_company.sort_values(by='emails/active delegate', ascending=False)\n",
    "emails_count_company_resort['ranking'] = np.arange(len(emails_count_company)) + 1\n",
    "display(emails_count_company_resort[['ranking', 'emails/active delegate', 'active delegates', 'total emails']].iloc[0:20,:])"
   ]
  },
  {
   "cell_type": "code",
   "execution_count": null,
   "metadata": {},
   "outputs": [],
   "source": [
    "import plotly.express as px\n",
    "import plotly.io as pio\n",
    "import plotly.graph_objects as go"
   ]
  },
  {
   "cell_type": "code",
   "execution_count": null,
   "metadata": {
    "scrolled": false
   },
   "outputs": [],
   "source": [
    "data = go.Bar(\n",
    "    x=email_count_per_ai.index, \n",
    "    y=email_count_per_ai['date'])\n",
    "layout = go.Layout(\n",
    "    xaxis= {'type': 'category'},\n",
    "    title='{1}: Emails/AI (total {0})'.format(email_count_per_ai['date'].sum(), title))\n",
    "fig = go.Figure(data=data, layout=layout)\n",
    "fig.show()\n",
    "\n",
    "fig_title = \"{0} {1}\".format(title, \"Emails per AI\")\n",
    "fig.write_html( fig_title + \".html\")\n",
    "fig.write_image(fig_title + \".png\")"
   ]
  },
  {
   "cell_type": "code",
   "execution_count": null,
   "metadata": {},
   "outputs": [],
   "source": [
    "data = go.Bar(\n",
    "    x=email_count_per_day.index, \n",
    "    y=email_count_per_day['date'])\n",
    "layout = go.Layout(\n",
    "    title='Emails per day (total {0})'.format(email_count_per_ai['date'].sum()),\n",
    "    xaxis_tickformat = '%d.%m',\n",
    "    xaxis_range = meeting_dates,\n",
    "    xaxis = { 'dtick': 1000*3600*24 })\n",
    "fig = go.Figure(data=data, layout=layout)\n",
    "fig.show()\n",
    "\n",
    "fig_title = \"{0} {1}\".format(title, \"Emails per day\")\n",
    "fig.write_html( fig_title + \".html\")\n",
    "fig.write_image(fig_title + \".png\")"
   ]
  },
  {
   "cell_type": "code",
   "execution_count": null,
   "metadata": {},
   "outputs": [],
   "source": [
    "# Data source for emails/day per AI\n",
    "email_count_per_day_and_ai = df.groupby(['ai', 'day']).count()\n",
    "\n",
    "ai_plot = {}\n",
    "ais = df.ai.unique()\n",
    "for ai in ais:\n",
    "    ai_plot[ai] = email_count_per_day_and_ai[email_count_per_day_and_ai.index.isin([ai], level=0)]['date']\n",
    "\n",
    "layout = go.Layout(\n",
    "    title='{1}: Emails/day (total {0})'.format(email_count_per_ai['date'].sum(), title),\n",
    "    xaxis_tickformat = '%d.%m',\n",
    "    xaxis_range = meeting_dates,\n",
    "    xaxis = { 'dtick': 1000*3600*24 } )\n",
    "\n",
    "fig = go.Figure(layout=layout)\n",
    "\n",
    "for ai in ais:\n",
    "    bar_data = ai_plot[ai]\n",
    "    bar_y = bar_data\n",
    "    bar_x = bar_data.index.get_level_values(1)\n",
    "    bar_title = ai\n",
    "    data = go.Bar(\n",
    "        x=bar_x, \n",
    "        y=bar_y,\n",
    "        name=bar_title)\n",
    "    fig.add_trace(data)\n",
    "\n",
    "fig.update_layout(barmode='relative')\n",
    "fig.show()\n",
    "\n",
    "fig_title = \"{0} {1}\".format(title, \"Emails per day and AI\")\n",
    "fig.write_html( fig_title + \".html\")\n",
    "fig.write_image(fig_title + \".png\")"
   ]
  },
  {
   "cell_type": "code",
   "execution_count": null,
   "metadata": {},
   "outputs": [],
   "source": [
    "# Deactivated cell (we already have the plot per AI)\n",
    "data = go.Bar(\n",
    "    x=email_count_per_hour.index, \n",
    "    y=email_count_per_hour['date'])\n",
    "layout = go.Layout(\n",
    "    title='Emails per hour (total {0})'.format(email_count_per_ai['date'].sum()),\n",
    "    xaxis_tickformat = '%d.%m  %Hh',\n",
    "    xaxis_range = meeting_dates)\n",
    "fig = go.Figure(data=data, layout=layout)\n",
    "fig.show()\n",
    "\n",
    "fig_title = \"{0} {1}\".format(title, \"Emails per hour\")\n",
    "fig.write_html( fig_title + \".html\")\n",
    "fig.write_image(fig_title + \".png\")"
   ]
  },
  {
   "cell_type": "code",
   "execution_count": null,
   "metadata": {
    "scrolled": true
   },
   "outputs": [],
   "source": [
    "# Data source for emails/h per AI\n",
    "email_count_per_hour_and_ai = df.groupby(['ai', 'hour']).count()\n",
    "\n",
    "ai_plot = {}\n",
    "ais = df.ai.unique()\n",
    "for ai in ais:\n",
    "    ai_plot[ai] = email_count_per_hour_and_ai[email_count_per_hour_and_ai.index.isin([ai], level=0)]['date']\n",
    "\n",
    "layout = go.Layout(\n",
    "    title='{1}: Emails/hour (total {0})'.format(email_count_per_ai['date'].sum(), title),\n",
    "    xaxis_tickformat = '%d.%m %Hh',\n",
    "    xaxis_range = meeting_dates)\n",
    "\n",
    "fig = go.Figure(layout=layout)\n",
    "\n",
    "for ai in ais:\n",
    "    bar_data = ai_plot[ai]\n",
    "    bar_y = bar_data\n",
    "    bar_x = bar_data.index.get_level_values(1)\n",
    "    bar_title = ai\n",
    "    data = go.Bar(\n",
    "        x=bar_x, \n",
    "        y=bar_y,\n",
    "        name=bar_title)\n",
    "    fig.add_trace(data)\n",
    "\n",
    "fig.update_layout(barmode='relative')\n",
    "fig.show()\n",
    "\n",
    "fig_title = \"{0} {1}\".format(title, \"Emails per hour and AI\")\n",
    "fig.write_html( fig_title + \".html\")\n",
    "fig.write_image(fig_title + \".png\")"
   ]
  },
  {
   "cell_type": "code",
   "execution_count": null,
   "metadata": {},
   "outputs": [],
   "source": []
  }
 ],
 "metadata": {
  "kernelspec": {
   "display_name": "Python 3",
   "language": "python",
   "name": "python3"
  },
  "language_info": {
   "codemirror_mode": {
    "name": "ipython",
    "version": 3
   },
   "file_extension": ".py",
   "mimetype": "text/x-python",
   "name": "python",
   "nbconvert_exporter": "python",
   "pygments_lexer": "ipython3",
   "version": "3.7.3"
  }
 },
 "nbformat": 4,
 "nbformat_minor": 2
}
